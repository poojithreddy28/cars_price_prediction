{
 "cells": [
  {
   "cell_type": "code",
   "execution_count": 1,
   "id": "afbc9048",
   "metadata": {},
   "outputs": [],
   "source": [
    "import pandas as pd\n",
    "import numpy as np\n",
    "import matplotlib.pyplot as plt"
   ]
  },
  {
   "cell_type": "code",
   "execution_count": 2,
   "id": "2aa27db4",
   "metadata": {},
   "outputs": [],
   "source": [
    "car=pd.read_csv(\"quikr_car.csv.csv\")"
   ]
  },
  {
   "cell_type": "code",
   "execution_count": 3,
   "id": "9096ae46",
   "metadata": {},
   "outputs": [
    {
     "data": {
      "text/html": [
       "<div>\n",
       "<style scoped>\n",
       "    .dataframe tbody tr th:only-of-type {\n",
       "        vertical-align: middle;\n",
       "    }\n",
       "\n",
       "    .dataframe tbody tr th {\n",
       "        vertical-align: top;\n",
       "    }\n",
       "\n",
       "    .dataframe thead th {\n",
       "        text-align: right;\n",
       "    }\n",
       "</style>\n",
       "<table border=\"1\" class=\"dataframe\">\n",
       "  <thead>\n",
       "    <tr style=\"text-align: right;\">\n",
       "      <th></th>\n",
       "      <th>name</th>\n",
       "      <th>company</th>\n",
       "      <th>year</th>\n",
       "      <th>Price</th>\n",
       "      <th>kms_driven</th>\n",
       "      <th>fuel_type</th>\n",
       "    </tr>\n",
       "  </thead>\n",
       "  <tbody>\n",
       "    <tr>\n",
       "      <th>0</th>\n",
       "      <td>Hyundai Santro Xing XO eRLX Euro III</td>\n",
       "      <td>Hyundai</td>\n",
       "      <td>2007</td>\n",
       "      <td>80,000</td>\n",
       "      <td>45,000 kms</td>\n",
       "      <td>Petrol</td>\n",
       "    </tr>\n",
       "    <tr>\n",
       "      <th>1</th>\n",
       "      <td>Mahindra Jeep CL550 MDI</td>\n",
       "      <td>Mahindra</td>\n",
       "      <td>2006</td>\n",
       "      <td>4,25,000</td>\n",
       "      <td>40 kms</td>\n",
       "      <td>Diesel</td>\n",
       "    </tr>\n",
       "    <tr>\n",
       "      <th>2</th>\n",
       "      <td>Maruti Suzuki Alto 800 Vxi</td>\n",
       "      <td>Maruti</td>\n",
       "      <td>2018</td>\n",
       "      <td>Ask For Price</td>\n",
       "      <td>22,000 kms</td>\n",
       "      <td>Petrol</td>\n",
       "    </tr>\n",
       "    <tr>\n",
       "      <th>3</th>\n",
       "      <td>Hyundai Grand i10 Magna 1.2 Kappa VTVT</td>\n",
       "      <td>Hyundai</td>\n",
       "      <td>2014</td>\n",
       "      <td>3,25,000</td>\n",
       "      <td>28,000 kms</td>\n",
       "      <td>Petrol</td>\n",
       "    </tr>\n",
       "    <tr>\n",
       "      <th>4</th>\n",
       "      <td>Ford EcoSport Titanium 1.5L TDCi</td>\n",
       "      <td>Ford</td>\n",
       "      <td>2014</td>\n",
       "      <td>5,75,000</td>\n",
       "      <td>36,000 kms</td>\n",
       "      <td>Diesel</td>\n",
       "    </tr>\n",
       "  </tbody>\n",
       "</table>\n",
       "</div>"
      ],
      "text/plain": [
       "                                     name   company  year          Price  \\\n",
       "0    Hyundai Santro Xing XO eRLX Euro III   Hyundai  2007         80,000   \n",
       "1                 Mahindra Jeep CL550 MDI  Mahindra  2006       4,25,000   \n",
       "2              Maruti Suzuki Alto 800 Vxi    Maruti  2018  Ask For Price   \n",
       "3  Hyundai Grand i10 Magna 1.2 Kappa VTVT   Hyundai  2014       3,25,000   \n",
       "4        Ford EcoSport Titanium 1.5L TDCi      Ford  2014       5,75,000   \n",
       "\n",
       "   kms_driven fuel_type  \n",
       "0  45,000 kms    Petrol  \n",
       "1      40 kms    Diesel  \n",
       "2  22,000 kms    Petrol  \n",
       "3  28,000 kms    Petrol  \n",
       "4  36,000 kms    Diesel  "
      ]
     },
     "execution_count": 3,
     "metadata": {},
     "output_type": "execute_result"
    }
   ],
   "source": [
    "car.head()"
   ]
  },
  {
   "cell_type": "code",
   "execution_count": 4,
   "id": "658592ad",
   "metadata": {},
   "outputs": [
    {
     "name": "stdout",
     "output_type": "stream",
     "text": [
      "<class 'pandas.core.frame.DataFrame'>\n",
      "RangeIndex: 892 entries, 0 to 891\n",
      "Data columns (total 6 columns):\n",
      " #   Column      Non-Null Count  Dtype \n",
      "---  ------      --------------  ----- \n",
      " 0   name        892 non-null    object\n",
      " 1   company     892 non-null    object\n",
      " 2   year        892 non-null    object\n",
      " 3   Price       892 non-null    object\n",
      " 4   kms_driven  840 non-null    object\n",
      " 5   fuel_type   837 non-null    object\n",
      "dtypes: object(6)\n",
      "memory usage: 41.9+ KB\n"
     ]
    }
   ],
   "source": [
    "car.info()"
   ]
  },
  {
   "cell_type": "code",
   "execution_count": 5,
   "id": "8b8b86e7",
   "metadata": {},
   "outputs": [
    {
     "data": {
      "text/plain": [
       "(892, 6)"
      ]
     },
     "execution_count": 5,
     "metadata": {},
     "output_type": "execute_result"
    }
   ],
   "source": [
    "car.shape"
   ]
  },
  {
   "cell_type": "code",
   "execution_count": 6,
   "id": "aa5f4085",
   "metadata": {},
   "outputs": [
    {
     "data": {
      "text/plain": [
       "array(['2007', '2006', '2018', '2014', '2015', '2012', '2013', '2016',\n",
       "       '2010', '2017', '2008', '2011', '2019', '2009', '2005', '2000',\n",
       "       '...', '150k', 'TOUR', '2003', 'r 15', '2004', 'Zest', '/-Rs',\n",
       "       'sale', '1995', 'ara)', '2002', 'SELL', '2001', 'tion', 'odel',\n",
       "       '2 bs', 'arry', 'Eon', 'o...', 'ture', 'emi', 'car', 'able', 'no.',\n",
       "       'd...', 'SALE', 'digo', 'sell', 'd Ex', 'n...', 'e...', 'D...',\n",
       "       ', Ac', 'go .', 'k...', 'o c4', 'zire', 'cent', 'Sumo', 'cab',\n",
       "       't xe', 'EV2', 'r...', 'zest'], dtype=object)"
      ]
     },
     "execution_count": 6,
     "metadata": {},
     "output_type": "execute_result"
    }
   ],
   "source": [
    "car[\"year\"].unique() #it has many non numeric values in it"
   ]
  },
  {
   "cell_type": "code",
   "execution_count": 7,
   "id": "a5cb289c",
   "metadata": {},
   "outputs": [
    {
     "data": {
      "text/plain": [
       "array(['Petrol', 'Diesel', nan, 'LPG'], dtype=object)"
      ]
     },
     "execution_count": 7,
     "metadata": {},
     "output_type": "execute_result"
    }
   ],
   "source": [
    "car[\"fuel_type\"].unique() #it has nan value "
   ]
  },
  {
   "cell_type": "code",
   "execution_count": 8,
   "id": "26a32870",
   "metadata": {},
   "outputs": [
    {
     "data": {
      "text/plain": [
       "array(['45,000 kms', '40 kms', '22,000 kms', '28,000 kms', '36,000 kms',\n",
       "       '59,000 kms', '41,000 kms', '25,000 kms', '24,530 kms',\n",
       "       '60,000 kms', '30,000 kms', '32,000 kms', '48,660 kms',\n",
       "       '4,000 kms', '16,934 kms', '43,000 kms', '35,550 kms',\n",
       "       '39,522 kms', '39,000 kms', '55,000 kms', '72,000 kms',\n",
       "       '15,975 kms', '70,000 kms', '23,452 kms', '35,522 kms',\n",
       "       '48,508 kms', '15,487 kms', '82,000 kms', '20,000 kms',\n",
       "       '68,000 kms', '38,000 kms', '27,000 kms', '33,000 kms',\n",
       "       '46,000 kms', '16,000 kms', '47,000 kms', '35,000 kms',\n",
       "       '30,874 kms', '15,000 kms', '29,685 kms', '1,30,000 kms',\n",
       "       '19,000 kms', nan, '54,000 kms', '13,000 kms', '38,200 kms',\n",
       "       '50,000 kms', '13,500 kms', '3,600 kms', '45,863 kms',\n",
       "       '60,500 kms', '12,500 kms', '18,000 kms', '13,349 kms',\n",
       "       '29,000 kms', '44,000 kms', '42,000 kms', '14,000 kms',\n",
       "       '49,000 kms', '36,200 kms', '51,000 kms', '1,04,000 kms',\n",
       "       '33,333 kms', '33,600 kms', '5,600 kms', '7,500 kms', '26,000 kms',\n",
       "       '24,330 kms', '65,480 kms', '28,028 kms', '2,00,000 kms',\n",
       "       '99,000 kms', '2,800 kms', '21,000 kms', '11,000 kms',\n",
       "       '66,000 kms', '3,000 kms', '7,000 kms', '38,500 kms', '37,200 kms',\n",
       "       '43,200 kms', '24,800 kms', '45,872 kms', '40,000 kms',\n",
       "       '11,400 kms', '97,200 kms', '52,000 kms', '31,000 kms',\n",
       "       '1,75,430 kms', '37,000 kms', '65,000 kms', '3,350 kms',\n",
       "       '75,000 kms', '62,000 kms', '73,000 kms', '2,200 kms',\n",
       "       '54,870 kms', '34,580 kms', '97,000 kms', '60 kms', '80,200 kms',\n",
       "       '3,200 kms', '0,000 kms', '5,000 kms', '588 kms', '71,200 kms',\n",
       "       '1,75,400 kms', '9,300 kms', '56,758 kms', '10,000 kms',\n",
       "       '56,450 kms', '56,000 kms', '32,700 kms', '9,000 kms', '73 kms',\n",
       "       '1,60,000 kms', '84,000 kms', '58,559 kms', '57,000 kms',\n",
       "       '1,70,000 kms', '80,000 kms', '6,821 kms', '23,000 kms',\n",
       "       '34,000 kms', '1,800 kms', '4,00,000 kms', '48,000 kms',\n",
       "       '90,000 kms', '12,000 kms', '69,900 kms', '1,66,000 kms',\n",
       "       '122 kms', '0 kms', '24,000 kms', '36,469 kms', '7,800 kms',\n",
       "       '24,695 kms', '15,141 kms', '59,910 kms', '1,00,000 kms',\n",
       "       '4,500 kms', '1,29,000 kms', '300 kms', '1,31,000 kms',\n",
       "       '1,11,111 kms', '59,466 kms', '25,500 kms', '44,005 kms',\n",
       "       '2,110 kms', '43,222 kms', '1,00,200 kms', '65 kms',\n",
       "       '1,40,000 kms', '1,03,553 kms', '58,000 kms', '1,20,000 kms',\n",
       "       '49,800 kms', '100 kms', '81,876 kms', '6,020 kms', '55,700 kms',\n",
       "       '18,500 kms', '1,80,000 kms', '53,000 kms', '35,500 kms',\n",
       "       '22,134 kms', '1,000 kms', '8,500 kms', '87,000 kms', '6,000 kms',\n",
       "       '15,574 kms', '8,000 kms', '55,800 kms', '56,400 kms',\n",
       "       '72,160 kms', '11,500 kms', '1,33,000 kms', '2,000 kms',\n",
       "       '88,000 kms', '65,422 kms', '1,17,000 kms', '1,50,000 kms',\n",
       "       '10,750 kms', '6,800 kms', '5 kms', '9,800 kms', '57,923 kms',\n",
       "       '30,201 kms', '6,200 kms', '37,518 kms', '24,652 kms', '383 kms',\n",
       "       '95,000 kms', '3,528 kms', '52,500 kms', '47,900 kms',\n",
       "       '52,800 kms', '1,95,000 kms', '48,008 kms', '48,247 kms',\n",
       "       '9,400 kms', '64,000 kms', '2,137 kms', '10,544 kms', '49,500 kms',\n",
       "       '1,47,000 kms', '90,001 kms', '48,006 kms', '74,000 kms',\n",
       "       '85,000 kms', '29,500 kms', '39,700 kms', '67,000 kms',\n",
       "       '19,336 kms', '60,105 kms', '45,933 kms', '1,02,563 kms',\n",
       "       '28,600 kms', '41,800 kms', '1,16,000 kms', '42,590 kms',\n",
       "       '7,400 kms', '54,500 kms', '76,000 kms', '00 kms', '11,523 kms',\n",
       "       '38,600 kms', '95,500 kms', '37,458 kms', '85,960 kms',\n",
       "       '12,516 kms', '30,600 kms', '2,550 kms', '62,500 kms',\n",
       "       '69,000 kms', '28,400 kms', '68,485 kms', '3,500 kms',\n",
       "       '85,455 kms', '63,000 kms', '1,600 kms', '77,000 kms',\n",
       "       '26,500 kms', '2,875 kms', '13,900 kms', '1,500 kms', '2,450 kms',\n",
       "       '1,625 kms', '33,400 kms', '60,123 kms', '38,900 kms',\n",
       "       '1,37,495 kms', '91,200 kms', '1,46,000 kms', '1,00,800 kms',\n",
       "       '2,100 kms', '2,500 kms', '1,32,000 kms', 'Petrol'], dtype=object)"
      ]
     },
     "execution_count": 8,
     "metadata": {},
     "output_type": "execute_result"
    }
   ],
   "source": [
    "car[\"kms_driven\"].unique() #it has kms and commas in it each value which is non numeric"
   ]
  },
  {
   "cell_type": "code",
   "execution_count": 50,
   "id": "822f1a3b",
   "metadata": {},
   "outputs": [
    {
     "data": {
      "text/plain": [
       "array(['80,000', '4,25,000', 'Ask For Price', '3,25,000', '5,75,000',\n",
       "       '1,75,000', '1,90,000', '8,30,000', '2,50,000', '1,82,000',\n",
       "       '3,15,000', '4,15,000', '3,20,000', '10,00,000', '5,00,000',\n",
       "       '3,50,000', '1,60,000', '3,10,000', '75,000', '1,00,000',\n",
       "       '2,90,000', '95,000', '1,80,000', '3,85,000', '1,05,000',\n",
       "       '6,50,000', '6,89,999', '4,48,000', '5,49,000', '5,01,000',\n",
       "       '4,89,999', '2,80,000', '3,49,999', '2,84,999', '3,45,000',\n",
       "       '4,99,999', '2,35,000', '2,49,999', '14,75,000', '3,95,000',\n",
       "       '2,20,000', '1,70,000', '85,000', '2,00,000', '5,70,000',\n",
       "       '1,10,000', '4,48,999', '18,91,111', '1,59,500', '3,44,999',\n",
       "       '4,49,999', '8,65,000', '6,99,000', '3,75,000', '2,24,999',\n",
       "       '12,00,000', '1,95,000', '3,51,000', '2,40,000', '90,000',\n",
       "       '1,55,000', '6,00,000', '1,89,500', '2,10,000', '3,90,000',\n",
       "       '1,35,000', '16,00,000', '7,01,000', '2,65,000', '5,25,000',\n",
       "       '3,72,000', '6,35,000', '5,50,000', '4,85,000', '3,29,500',\n",
       "       '2,51,111', '5,69,999', '69,999', '2,99,999', '3,99,999',\n",
       "       '4,50,000', '2,70,000', '1,58,400', '1,79,000', '1,25,000',\n",
       "       '2,99,000', '1,50,000', '2,75,000', '2,85,000', '3,40,000',\n",
       "       '70,000', '2,89,999', '8,49,999', '7,49,999', '2,74,999',\n",
       "       '9,84,999', '5,99,999', '2,44,999', '4,74,999', '2,45,000',\n",
       "       '1,69,500', '3,70,000', '1,68,000', '1,45,000', '98,500',\n",
       "       '2,09,000', '1,85,000', '9,00,000', '6,99,999', '1,99,999',\n",
       "       '5,44,999', '1,99,000', '5,40,000', '49,000', '7,00,000', '55,000',\n",
       "       '8,95,000', '3,55,000', '5,65,000', '3,65,000', '40,000',\n",
       "       '4,00,000', '3,30,000', '5,80,000', '3,79,000', '2,19,000',\n",
       "       '5,19,000', '7,30,000', '20,00,000', '21,00,000', '14,00,000',\n",
       "       '3,11,000', '8,55,000', '5,35,000', '1,78,000', '3,00,000',\n",
       "       '2,55,000', '5,49,999', '3,80,000', '57,000', '4,10,000',\n",
       "       '2,25,000', '1,20,000', '59,000', '5,99,000', '6,75,000', '72,500',\n",
       "       '6,10,000', '2,30,000', '5,20,000', '5,24,999', '4,24,999',\n",
       "       '6,44,999', '5,84,999', '7,99,999', '4,44,999', '6,49,999',\n",
       "       '9,44,999', '5,74,999', '3,74,999', '1,30,000', '4,01,000',\n",
       "       '13,50,000', '1,74,999', '2,39,999', '99,999', '3,24,999',\n",
       "       '10,74,999', '11,30,000', '1,49,000', '7,70,000', '30,000',\n",
       "       '3,35,000', '3,99,000', '65,000', '1,69,999', '1,65,000',\n",
       "       '5,60,000', '9,50,000', '7,15,000', '45,000', '9,40,000',\n",
       "       '1,55,555', '15,00,000', '4,95,000', '8,00,000', '12,99,000',\n",
       "       '5,30,000', '14,99,000', '32,000', '4,05,000', '7,60,000',\n",
       "       '7,50,000', '4,19,000', '1,40,000', '15,40,000', '1,23,000',\n",
       "       '4,98,000', '4,80,000', '4,88,000', '15,25,000', '5,48,900',\n",
       "       '7,25,000', '99,000', '52,000', '28,00,000', '4,99,000',\n",
       "       '3,81,000', '2,78,000', '6,90,000', '2,60,000', '90,001',\n",
       "       '1,15,000', '15,99,000', '1,59,000', '51,999', '2,15,000',\n",
       "       '35,000', '11,50,000', '2,69,000', '60,000', '4,30,000',\n",
       "       '85,00,003', '4,01,919', '4,90,000', '4,24,000', '2,05,000',\n",
       "       '5,49,900', '3,71,500', '4,35,000', '1,89,700', '3,89,700',\n",
       "       '3,60,000', '2,95,000', '1,14,990', '10,65,000', '4,70,000',\n",
       "       '48,000', '1,88,000', '4,65,000', '1,79,999', '21,90,000',\n",
       "       '23,90,000', '10,75,000', '4,75,000', '10,25,000', '6,15,000',\n",
       "       '19,00,000', '14,90,000', '15,10,000', '18,50,000', '7,90,000',\n",
       "       '17,25,000', '12,25,000', '68,000', '9,70,000', '31,00,000',\n",
       "       '8,99,000', '88,000', '53,000', '5,68,500', '71,000', '5,90,000',\n",
       "       '7,95,000', '42,000', '1,89,000', '1,62,000', '35,999',\n",
       "       '29,00,000', '39,999', '50,500', '5,10,000', '8,60,000',\n",
       "       '5,00,001'], dtype=object)"
      ]
     },
     "execution_count": 50,
     "metadata": {},
     "output_type": "execute_result"
    }
   ],
   "source": [
    "car[\"Price\"].unique() #in this feature we have ask for price inplace of non numeric that  we have to remove"
   ]
  },
  {
   "cell_type": "markdown",
   "id": "e6a38422",
   "metadata": {},
   "source": [
    "DATA CLEANING\n",
    "\n"
   ]
  },
  {
   "cell_type": "code",
   "execution_count": 9,
   "id": "a48c808f",
   "metadata": {},
   "outputs": [],
   "source": [
    "backup=car.copy()\n"
   ]
  },
  {
   "cell_type": "code",
   "execution_count": 10,
   "id": "63f2d3f6",
   "metadata": {},
   "outputs": [],
   "source": [
    "car=car[car[\"year\"].str.isnumeric()] #converting the non numeric to numeric"
   ]
  },
  {
   "cell_type": "code",
   "execution_count": 11,
   "id": "53e3bb80",
   "metadata": {},
   "outputs": [],
   "source": [
    "car[\"year\"]=car[\"year\"].astype(int)"
   ]
  },
  {
   "cell_type": "code",
   "execution_count": 12,
   "id": "2784d2e3",
   "metadata": {},
   "outputs": [
    {
     "name": "stdout",
     "output_type": "stream",
     "text": [
      "<class 'pandas.core.frame.DataFrame'>\n",
      "Int64Index: 842 entries, 0 to 891\n",
      "Data columns (total 6 columns):\n",
      " #   Column      Non-Null Count  Dtype \n",
      "---  ------      --------------  ----- \n",
      " 0   name        842 non-null    object\n",
      " 1   company     842 non-null    object\n",
      " 2   year        842 non-null    int32 \n",
      " 3   Price       842 non-null    object\n",
      " 4   kms_driven  840 non-null    object\n",
      " 5   fuel_type   837 non-null    object\n",
      "dtypes: int32(1), object(5)\n",
      "memory usage: 42.8+ KB\n"
     ]
    }
   ],
   "source": [
    "car.info()"
   ]
  },
  {
   "cell_type": "code",
   "execution_count": 13,
   "id": "2130c832",
   "metadata": {},
   "outputs": [],
   "source": [
    "car=car[car[\"Price\"]!=\"Ask For Price\"] #removing the ask for price value in the dataset"
   ]
  },
  {
   "cell_type": "code",
   "execution_count": 14,
   "id": "f1fd6ab2",
   "metadata": {},
   "outputs": [],
   "source": [
    "car[\"Price\"]=car[\"Price\"].str.replace(\",\",\"\").astype(int) #replacing comma values in between"
   ]
  },
  {
   "cell_type": "code",
   "execution_count": 15,
   "id": "75395483",
   "metadata": {},
   "outputs": [
    {
     "name": "stdout",
     "output_type": "stream",
     "text": [
      "<class 'pandas.core.frame.DataFrame'>\n",
      "Int64Index: 819 entries, 0 to 891\n",
      "Data columns (total 6 columns):\n",
      " #   Column      Non-Null Count  Dtype \n",
      "---  ------      --------------  ----- \n",
      " 0   name        819 non-null    object\n",
      " 1   company     819 non-null    object\n",
      " 2   year        819 non-null    int32 \n",
      " 3   Price       819 non-null    int32 \n",
      " 4   kms_driven  819 non-null    object\n",
      " 5   fuel_type   816 non-null    object\n",
      "dtypes: int32(2), object(4)\n",
      "memory usage: 38.4+ KB\n"
     ]
    }
   ],
   "source": [
    "car.info()"
   ]
  },
  {
   "cell_type": "code",
   "execution_count": 16,
   "id": "46718157",
   "metadata": {},
   "outputs": [],
   "source": [
    "car[\"kms_driven\"]=car[\"kms_driven\"].str.split(\" \").str.get(0).str.replace(\",\",\"\")\n",
    "#spliting the kms to lists and getting first value from list and removing comma"
   ]
  },
  {
   "cell_type": "code",
   "execution_count": 17,
   "id": "c61261ca",
   "metadata": {},
   "outputs": [],
   "source": [
    "car=car[car[\"kms_driven\"].str.isnumeric()]"
   ]
  },
  {
   "cell_type": "code",
   "execution_count": 18,
   "id": "0cc5eb74",
   "metadata": {},
   "outputs": [
    {
     "data": {
      "text/plain": [
       "array(['45000', '40', '28000', '36000', '41000', '25000', '24530',\n",
       "       '60000', '30000', '32000', '48660', '4000', '16934', '43000',\n",
       "       '35550', '39522', '39000', '55000', '72000', '15975', '70000',\n",
       "       '23452', '35522', '48508', '15487', '82000', '20000', '68000',\n",
       "       '38000', '27000', '33000', '46000', '16000', '47000', '35000',\n",
       "       '30874', '15000', '29685', '130000', '19000', '54000', '13000',\n",
       "       '38200', '22000', '50000', '13500', '3600', '45863', '60500',\n",
       "       '12500', '18000', '13349', '29000', '44000', '42000', '14000',\n",
       "       '49000', '36200', '51000', '104000', '33333', '33600', '5600',\n",
       "       '7500', '26000', '24330', '65480', '200000', '59000', '99000',\n",
       "       '2800', '21000', '11000', '66000', '3000', '7000', '38500',\n",
       "       '37200', '43200', '24800', '45872', '40000', '11400', '97200',\n",
       "       '52000', '31000', '175430', '37000', '65000', '3350', '75000',\n",
       "       '62000', '73000', '2200', '54870', '34580', '97000', '60', '80200',\n",
       "       '3200', '0000', '5000', '588', '71200', '175400', '9300', '56758',\n",
       "       '10000', '56450', '56000', '32700', '9000', '73', '160000',\n",
       "       '58559', '57000', '170000', '80000', '6821', '23000', '34000',\n",
       "       '1800', '400000', '48000', '90000', '12000', '69900', '166000',\n",
       "       '122', '0', '36469', '7800', '24695', '15141', '59910', '100000',\n",
       "       '4500', '129000', '300', '131000', '111111', '59466', '25500',\n",
       "       '44005', '2110', '43222', '100200', '65', '140000', '103553',\n",
       "       '58000', '120000', '49800', '100', '81876', '6020', '55700',\n",
       "       '18500', '53000', '35500', '22134', '1000', '8500', '87000',\n",
       "       '6000', '8000', '55800', '56400', '72160', '11500', '133000',\n",
       "       '2000', '88000', '65422', '117000', '150000', '10750', '6800',\n",
       "       '9800', '57923', '30201', '6200', '37518', '24652', '383', '95000',\n",
       "       '3528', '52500', '47900', '52800', '195000', '48008', '48247',\n",
       "       '9400', '64000', '2137', '10544', '147000', '90001', '48006',\n",
       "       '74000', '85000', '29500', '39700', '67000', '19336', '60105',\n",
       "       '45933', '102563', '28600', '41800', '116000', '42590', '7400',\n",
       "       '54500', '76000', '00', '11523', '38600', '95500', '37458',\n",
       "       '85960', '12516', '30600', '2550', '62500', '69000', '28400',\n",
       "       '68485', '3500', '85455', '63000', '1600', '77000', '26500',\n",
       "       '2875', '13900', '1500', '2450', '1625', '33400', '60123',\n",
       "       '137495', '91200', '146000', '100800', '2100', '2500', '132000'],\n",
       "      dtype=object)"
      ]
     },
     "execution_count": 18,
     "metadata": {},
     "output_type": "execute_result"
    }
   ],
   "source": [
    "car[\"kms_driven\"].unique()"
   ]
  },
  {
   "cell_type": "code",
   "execution_count": 19,
   "id": "c8aedc39",
   "metadata": {},
   "outputs": [],
   "source": [
    "car[\"kms_driven\"]=car[\"kms_driven\"].astype(int)"
   ]
  },
  {
   "cell_type": "code",
   "execution_count": 23,
   "id": "477639d4",
   "metadata": {},
   "outputs": [],
   "source": [
    "car=car[~car[\"fuel_type\"].isna()]"
   ]
  },
  {
   "cell_type": "code",
   "execution_count": 24,
   "id": "2d8e272a",
   "metadata": {},
   "outputs": [
    {
     "data": {
      "text/plain": [
       "array(['Petrol', 'Diesel', 'LPG'], dtype=object)"
      ]
     },
     "execution_count": 24,
     "metadata": {},
     "output_type": "execute_result"
    }
   ],
   "source": [
    "car[\"fuel_type\"].unique()"
   ]
  },
  {
   "cell_type": "code",
   "execution_count": 25,
   "id": "ec328ccd",
   "metadata": {},
   "outputs": [],
   "source": [
    "car[\"name\"]=car[\"name\"].str.split(\" \").str.slice(0,3).str.join(\" \")"
   ]
  },
  {
   "cell_type": "code",
   "execution_count": 26,
   "id": "c2864873",
   "metadata": {},
   "outputs": [],
   "source": [
    "car=car.reset_index(drop=True)"
   ]
  },
  {
   "cell_type": "code",
   "execution_count": 27,
   "id": "4b79f379",
   "metadata": {},
   "outputs": [
    {
     "data": {
      "text/html": [
       "<div>\n",
       "<style scoped>\n",
       "    .dataframe tbody tr th:only-of-type {\n",
       "        vertical-align: middle;\n",
       "    }\n",
       "\n",
       "    .dataframe tbody tr th {\n",
       "        vertical-align: top;\n",
       "    }\n",
       "\n",
       "    .dataframe thead th {\n",
       "        text-align: right;\n",
       "    }\n",
       "</style>\n",
       "<table border=\"1\" class=\"dataframe\">\n",
       "  <thead>\n",
       "    <tr style=\"text-align: right;\">\n",
       "      <th></th>\n",
       "      <th>name</th>\n",
       "      <th>company</th>\n",
       "      <th>year</th>\n",
       "      <th>Price</th>\n",
       "      <th>kms_driven</th>\n",
       "      <th>fuel_type</th>\n",
       "    </tr>\n",
       "  </thead>\n",
       "  <tbody>\n",
       "    <tr>\n",
       "      <th>0</th>\n",
       "      <td>Hyundai Santro Xing</td>\n",
       "      <td>Hyundai</td>\n",
       "      <td>2007</td>\n",
       "      <td>80000</td>\n",
       "      <td>45000</td>\n",
       "      <td>Petrol</td>\n",
       "    </tr>\n",
       "    <tr>\n",
       "      <th>1</th>\n",
       "      <td>Mahindra Jeep CL550</td>\n",
       "      <td>Mahindra</td>\n",
       "      <td>2006</td>\n",
       "      <td>425000</td>\n",
       "      <td>40</td>\n",
       "      <td>Diesel</td>\n",
       "    </tr>\n",
       "    <tr>\n",
       "      <th>2</th>\n",
       "      <td>Hyundai Grand i10</td>\n",
       "      <td>Hyundai</td>\n",
       "      <td>2014</td>\n",
       "      <td>325000</td>\n",
       "      <td>28000</td>\n",
       "      <td>Petrol</td>\n",
       "    </tr>\n",
       "    <tr>\n",
       "      <th>3</th>\n",
       "      <td>Ford EcoSport Titanium</td>\n",
       "      <td>Ford</td>\n",
       "      <td>2014</td>\n",
       "      <td>575000</td>\n",
       "      <td>36000</td>\n",
       "      <td>Diesel</td>\n",
       "    </tr>\n",
       "    <tr>\n",
       "      <th>4</th>\n",
       "      <td>Ford Figo</td>\n",
       "      <td>Ford</td>\n",
       "      <td>2012</td>\n",
       "      <td>175000</td>\n",
       "      <td>41000</td>\n",
       "      <td>Diesel</td>\n",
       "    </tr>\n",
       "    <tr>\n",
       "      <th>...</th>\n",
       "      <td>...</td>\n",
       "      <td>...</td>\n",
       "      <td>...</td>\n",
       "      <td>...</td>\n",
       "      <td>...</td>\n",
       "      <td>...</td>\n",
       "    </tr>\n",
       "    <tr>\n",
       "      <th>811</th>\n",
       "      <td>Maruti Suzuki Ritz</td>\n",
       "      <td>Maruti</td>\n",
       "      <td>2011</td>\n",
       "      <td>270000</td>\n",
       "      <td>50000</td>\n",
       "      <td>Petrol</td>\n",
       "    </tr>\n",
       "    <tr>\n",
       "      <th>812</th>\n",
       "      <td>Tata Indica V2</td>\n",
       "      <td>Tata</td>\n",
       "      <td>2009</td>\n",
       "      <td>110000</td>\n",
       "      <td>30000</td>\n",
       "      <td>Diesel</td>\n",
       "    </tr>\n",
       "    <tr>\n",
       "      <th>813</th>\n",
       "      <td>Toyota Corolla Altis</td>\n",
       "      <td>Toyota</td>\n",
       "      <td>2009</td>\n",
       "      <td>300000</td>\n",
       "      <td>132000</td>\n",
       "      <td>Petrol</td>\n",
       "    </tr>\n",
       "    <tr>\n",
       "      <th>814</th>\n",
       "      <td>Tata Zest XM</td>\n",
       "      <td>Tata</td>\n",
       "      <td>2018</td>\n",
       "      <td>260000</td>\n",
       "      <td>27000</td>\n",
       "      <td>Diesel</td>\n",
       "    </tr>\n",
       "    <tr>\n",
       "      <th>815</th>\n",
       "      <td>Mahindra Quanto C8</td>\n",
       "      <td>Mahindra</td>\n",
       "      <td>2013</td>\n",
       "      <td>390000</td>\n",
       "      <td>40000</td>\n",
       "      <td>Diesel</td>\n",
       "    </tr>\n",
       "  </tbody>\n",
       "</table>\n",
       "<p>816 rows × 6 columns</p>\n",
       "</div>"
      ],
      "text/plain": [
       "                       name   company  year   Price  kms_driven fuel_type\n",
       "0       Hyundai Santro Xing   Hyundai  2007   80000       45000    Petrol\n",
       "1       Mahindra Jeep CL550  Mahindra  2006  425000          40    Diesel\n",
       "2         Hyundai Grand i10   Hyundai  2014  325000       28000    Petrol\n",
       "3    Ford EcoSport Titanium      Ford  2014  575000       36000    Diesel\n",
       "4                 Ford Figo      Ford  2012  175000       41000    Diesel\n",
       "..                      ...       ...   ...     ...         ...       ...\n",
       "811      Maruti Suzuki Ritz    Maruti  2011  270000       50000    Petrol\n",
       "812          Tata Indica V2      Tata  2009  110000       30000    Diesel\n",
       "813    Toyota Corolla Altis    Toyota  2009  300000      132000    Petrol\n",
       "814            Tata Zest XM      Tata  2018  260000       27000    Diesel\n",
       "815      Mahindra Quanto C8  Mahindra  2013  390000       40000    Diesel\n",
       "\n",
       "[816 rows x 6 columns]"
      ]
     },
     "execution_count": 27,
     "metadata": {},
     "output_type": "execute_result"
    }
   ],
   "source": [
    "car"
   ]
  },
  {
   "cell_type": "code",
   "execution_count": 28,
   "id": "1d39d125",
   "metadata": {},
   "outputs": [
    {
     "name": "stdout",
     "output_type": "stream",
     "text": [
      "<class 'pandas.core.frame.DataFrame'>\n",
      "RangeIndex: 816 entries, 0 to 815\n",
      "Data columns (total 6 columns):\n",
      " #   Column      Non-Null Count  Dtype \n",
      "---  ------      --------------  ----- \n",
      " 0   name        816 non-null    object\n",
      " 1   company     816 non-null    object\n",
      " 2   year        816 non-null    int32 \n",
      " 3   Price       816 non-null    int32 \n",
      " 4   kms_driven  816 non-null    int32 \n",
      " 5   fuel_type   816 non-null    object\n",
      "dtypes: int32(3), object(3)\n",
      "memory usage: 28.8+ KB\n"
     ]
    }
   ],
   "source": [
    "car.info()"
   ]
  },
  {
   "cell_type": "code",
   "execution_count": 29,
   "id": "8af9fd01",
   "metadata": {},
   "outputs": [
    {
     "data": {
      "text/html": [
       "<div>\n",
       "<style scoped>\n",
       "    .dataframe tbody tr th:only-of-type {\n",
       "        vertical-align: middle;\n",
       "    }\n",
       "\n",
       "    .dataframe tbody tr th {\n",
       "        vertical-align: top;\n",
       "    }\n",
       "\n",
       "    .dataframe thead th {\n",
       "        text-align: right;\n",
       "    }\n",
       "</style>\n",
       "<table border=\"1\" class=\"dataframe\">\n",
       "  <thead>\n",
       "    <tr style=\"text-align: right;\">\n",
       "      <th></th>\n",
       "      <th>year</th>\n",
       "      <th>Price</th>\n",
       "      <th>kms_driven</th>\n",
       "    </tr>\n",
       "  </thead>\n",
       "  <tbody>\n",
       "    <tr>\n",
       "      <th>count</th>\n",
       "      <td>816.000000</td>\n",
       "      <td>8.160000e+02</td>\n",
       "      <td>816.000000</td>\n",
       "    </tr>\n",
       "    <tr>\n",
       "      <th>mean</th>\n",
       "      <td>2012.444853</td>\n",
       "      <td>4.117176e+05</td>\n",
       "      <td>46275.531863</td>\n",
       "    </tr>\n",
       "    <tr>\n",
       "      <th>std</th>\n",
       "      <td>4.002992</td>\n",
       "      <td>4.751844e+05</td>\n",
       "      <td>34297.428044</td>\n",
       "    </tr>\n",
       "    <tr>\n",
       "      <th>min</th>\n",
       "      <td>1995.000000</td>\n",
       "      <td>3.000000e+04</td>\n",
       "      <td>0.000000</td>\n",
       "    </tr>\n",
       "    <tr>\n",
       "      <th>25%</th>\n",
       "      <td>2010.000000</td>\n",
       "      <td>1.750000e+05</td>\n",
       "      <td>27000.000000</td>\n",
       "    </tr>\n",
       "    <tr>\n",
       "      <th>50%</th>\n",
       "      <td>2013.000000</td>\n",
       "      <td>2.999990e+05</td>\n",
       "      <td>41000.000000</td>\n",
       "    </tr>\n",
       "    <tr>\n",
       "      <th>75%</th>\n",
       "      <td>2015.000000</td>\n",
       "      <td>4.912500e+05</td>\n",
       "      <td>56818.500000</td>\n",
       "    </tr>\n",
       "    <tr>\n",
       "      <th>max</th>\n",
       "      <td>2019.000000</td>\n",
       "      <td>8.500003e+06</td>\n",
       "      <td>400000.000000</td>\n",
       "    </tr>\n",
       "  </tbody>\n",
       "</table>\n",
       "</div>"
      ],
      "text/plain": [
       "              year         Price     kms_driven\n",
       "count   816.000000  8.160000e+02     816.000000\n",
       "mean   2012.444853  4.117176e+05   46275.531863\n",
       "std       4.002992  4.751844e+05   34297.428044\n",
       "min    1995.000000  3.000000e+04       0.000000\n",
       "25%    2010.000000  1.750000e+05   27000.000000\n",
       "50%    2013.000000  2.999990e+05   41000.000000\n",
       "75%    2015.000000  4.912500e+05   56818.500000\n",
       "max    2019.000000  8.500003e+06  400000.000000"
      ]
     },
     "execution_count": 29,
     "metadata": {},
     "output_type": "execute_result"
    }
   ],
   "source": [
    "car.describe()"
   ]
  },
  {
   "cell_type": "code",
   "execution_count": 30,
   "id": "41aa8fba",
   "metadata": {},
   "outputs": [
    {
     "data": {
      "text/html": [
       "<div>\n",
       "<style scoped>\n",
       "    .dataframe tbody tr th:only-of-type {\n",
       "        vertical-align: middle;\n",
       "    }\n",
       "\n",
       "    .dataframe tbody tr th {\n",
       "        vertical-align: top;\n",
       "    }\n",
       "\n",
       "    .dataframe thead th {\n",
       "        text-align: right;\n",
       "    }\n",
       "</style>\n",
       "<table border=\"1\" class=\"dataframe\">\n",
       "  <thead>\n",
       "    <tr style=\"text-align: right;\">\n",
       "      <th></th>\n",
       "      <th>name</th>\n",
       "      <th>company</th>\n",
       "      <th>year</th>\n",
       "      <th>Price</th>\n",
       "      <th>kms_driven</th>\n",
       "      <th>fuel_type</th>\n",
       "    </tr>\n",
       "  </thead>\n",
       "  <tbody>\n",
       "    <tr>\n",
       "      <th>534</th>\n",
       "      <td>Mahindra XUV500 W6</td>\n",
       "      <td>Mahindra</td>\n",
       "      <td>2014</td>\n",
       "      <td>8500003</td>\n",
       "      <td>45000</td>\n",
       "      <td>Diesel</td>\n",
       "    </tr>\n",
       "  </tbody>\n",
       "</table>\n",
       "</div>"
      ],
      "text/plain": [
       "                   name   company  year    Price  kms_driven fuel_type\n",
       "534  Mahindra XUV500 W6  Mahindra  2014  8500003       45000    Diesel"
      ]
     },
     "execution_count": 30,
     "metadata": {},
     "output_type": "execute_result"
    }
   ],
   "source": [
    "car[car[\"Price\"]>6e6] #printing the cars which are above 60lakhs because they are outiers"
   ]
  },
  {
   "cell_type": "code",
   "execution_count": 31,
   "id": "0aa6bd3f",
   "metadata": {},
   "outputs": [],
   "source": [
    "car=car[car[\"Price\"]<6e6].reset_index(drop=True)"
   ]
  },
  {
   "cell_type": "code",
   "execution_count": 32,
   "id": "15a1ae3a",
   "metadata": {},
   "outputs": [
    {
     "data": {
      "text/html": [
       "<div>\n",
       "<style scoped>\n",
       "    .dataframe tbody tr th:only-of-type {\n",
       "        vertical-align: middle;\n",
       "    }\n",
       "\n",
       "    .dataframe tbody tr th {\n",
       "        vertical-align: top;\n",
       "    }\n",
       "\n",
       "    .dataframe thead th {\n",
       "        text-align: right;\n",
       "    }\n",
       "</style>\n",
       "<table border=\"1\" class=\"dataframe\">\n",
       "  <thead>\n",
       "    <tr style=\"text-align: right;\">\n",
       "      <th></th>\n",
       "      <th>name</th>\n",
       "      <th>company</th>\n",
       "      <th>year</th>\n",
       "      <th>Price</th>\n",
       "      <th>kms_driven</th>\n",
       "      <th>fuel_type</th>\n",
       "    </tr>\n",
       "  </thead>\n",
       "  <tbody>\n",
       "    <tr>\n",
       "      <th>0</th>\n",
       "      <td>Hyundai Santro Xing</td>\n",
       "      <td>Hyundai</td>\n",
       "      <td>2007</td>\n",
       "      <td>80000</td>\n",
       "      <td>45000</td>\n",
       "      <td>Petrol</td>\n",
       "    </tr>\n",
       "    <tr>\n",
       "      <th>1</th>\n",
       "      <td>Mahindra Jeep CL550</td>\n",
       "      <td>Mahindra</td>\n",
       "      <td>2006</td>\n",
       "      <td>425000</td>\n",
       "      <td>40</td>\n",
       "      <td>Diesel</td>\n",
       "    </tr>\n",
       "    <tr>\n",
       "      <th>2</th>\n",
       "      <td>Hyundai Grand i10</td>\n",
       "      <td>Hyundai</td>\n",
       "      <td>2014</td>\n",
       "      <td>325000</td>\n",
       "      <td>28000</td>\n",
       "      <td>Petrol</td>\n",
       "    </tr>\n",
       "    <tr>\n",
       "      <th>3</th>\n",
       "      <td>Ford EcoSport Titanium</td>\n",
       "      <td>Ford</td>\n",
       "      <td>2014</td>\n",
       "      <td>575000</td>\n",
       "      <td>36000</td>\n",
       "      <td>Diesel</td>\n",
       "    </tr>\n",
       "    <tr>\n",
       "      <th>4</th>\n",
       "      <td>Ford Figo</td>\n",
       "      <td>Ford</td>\n",
       "      <td>2012</td>\n",
       "      <td>175000</td>\n",
       "      <td>41000</td>\n",
       "      <td>Diesel</td>\n",
       "    </tr>\n",
       "    <tr>\n",
       "      <th>...</th>\n",
       "      <td>...</td>\n",
       "      <td>...</td>\n",
       "      <td>...</td>\n",
       "      <td>...</td>\n",
       "      <td>...</td>\n",
       "      <td>...</td>\n",
       "    </tr>\n",
       "    <tr>\n",
       "      <th>810</th>\n",
       "      <td>Maruti Suzuki Ritz</td>\n",
       "      <td>Maruti</td>\n",
       "      <td>2011</td>\n",
       "      <td>270000</td>\n",
       "      <td>50000</td>\n",
       "      <td>Petrol</td>\n",
       "    </tr>\n",
       "    <tr>\n",
       "      <th>811</th>\n",
       "      <td>Tata Indica V2</td>\n",
       "      <td>Tata</td>\n",
       "      <td>2009</td>\n",
       "      <td>110000</td>\n",
       "      <td>30000</td>\n",
       "      <td>Diesel</td>\n",
       "    </tr>\n",
       "    <tr>\n",
       "      <th>812</th>\n",
       "      <td>Toyota Corolla Altis</td>\n",
       "      <td>Toyota</td>\n",
       "      <td>2009</td>\n",
       "      <td>300000</td>\n",
       "      <td>132000</td>\n",
       "      <td>Petrol</td>\n",
       "    </tr>\n",
       "    <tr>\n",
       "      <th>813</th>\n",
       "      <td>Tata Zest XM</td>\n",
       "      <td>Tata</td>\n",
       "      <td>2018</td>\n",
       "      <td>260000</td>\n",
       "      <td>27000</td>\n",
       "      <td>Diesel</td>\n",
       "    </tr>\n",
       "    <tr>\n",
       "      <th>814</th>\n",
       "      <td>Mahindra Quanto C8</td>\n",
       "      <td>Mahindra</td>\n",
       "      <td>2013</td>\n",
       "      <td>390000</td>\n",
       "      <td>40000</td>\n",
       "      <td>Diesel</td>\n",
       "    </tr>\n",
       "  </tbody>\n",
       "</table>\n",
       "<p>815 rows × 6 columns</p>\n",
       "</div>"
      ],
      "text/plain": [
       "                       name   company  year   Price  kms_driven fuel_type\n",
       "0       Hyundai Santro Xing   Hyundai  2007   80000       45000    Petrol\n",
       "1       Mahindra Jeep CL550  Mahindra  2006  425000          40    Diesel\n",
       "2         Hyundai Grand i10   Hyundai  2014  325000       28000    Petrol\n",
       "3    Ford EcoSport Titanium      Ford  2014  575000       36000    Diesel\n",
       "4                 Ford Figo      Ford  2012  175000       41000    Diesel\n",
       "..                      ...       ...   ...     ...         ...       ...\n",
       "810      Maruti Suzuki Ritz    Maruti  2011  270000       50000    Petrol\n",
       "811          Tata Indica V2      Tata  2009  110000       30000    Diesel\n",
       "812    Toyota Corolla Altis    Toyota  2009  300000      132000    Petrol\n",
       "813            Tata Zest XM      Tata  2018  260000       27000    Diesel\n",
       "814      Mahindra Quanto C8  Mahindra  2013  390000       40000    Diesel\n",
       "\n",
       "[815 rows x 6 columns]"
      ]
     },
     "execution_count": 32,
     "metadata": {},
     "output_type": "execute_result"
    }
   ],
   "source": [
    "car"
   ]
  },
  {
   "cell_type": "code",
   "execution_count": 33,
   "id": "9c89fba5",
   "metadata": {},
   "outputs": [],
   "source": [
    "car.to_csv(\"cleaned_car_data.csv\") #copying cleaned dataset to another csv file"
   ]
  },
  {
   "cell_type": "markdown",
   "id": "7a93f505",
   "metadata": {},
   "source": [
    "MODEL."
   ]
  },
  {
   "cell_type": "code",
   "execution_count": 34,
   "id": "428be39f",
   "metadata": {},
   "outputs": [],
   "source": [
    "X=car.drop(columns=\"Price\") #input features\n",
    "y=car[\"Price\"] #target feature"
   ]
  },
  {
   "cell_type": "code",
   "execution_count": 35,
   "id": "b1d65e9e",
   "metadata": {},
   "outputs": [],
   "source": [
    "from sklearn.model_selection import train_test_split\n",
    "X_train,X_test,y_train,y_test=train_test_split(X,y,test_size=0.2,random_state=652) #random_state is givene as 661 to get better r2score"
   ]
  },
  {
   "cell_type": "code",
   "execution_count": 36,
   "id": "8f0e4779",
   "metadata": {},
   "outputs": [],
   "source": [
    "from sklearn.linear_model import LinearRegression\n",
    "from sklearn.preprocessing import OneHotEncoder\n",
    "from sklearn.metrics import r2_score\n",
    "from sklearn.compose import make_column_transformer\n",
    "from sklearn.pipeline import make_pipeline"
   ]
  },
  {
   "cell_type": "code",
   "execution_count": 37,
   "id": "b253c5a9",
   "metadata": {},
   "outputs": [
    {
     "data": {
      "text/plain": [
       "OneHotEncoder()"
      ]
     },
     "execution_count": 37,
     "metadata": {},
     "output_type": "execute_result"
    }
   ],
   "source": [
    "ohe=OneHotEncoder()\n",
    "ohe.fit(X[[\"name\",\"fuel_type\",\"company\"]])"
   ]
  },
  {
   "cell_type": "code",
   "execution_count": 38,
   "id": "3fc54184",
   "metadata": {},
   "outputs": [
    {
     "name": "stderr",
     "output_type": "stream",
     "text": [
      "c:\\users\\pooji\\appdata\\local\\programs\\python\\python39\\lib\\site-packages\\sklearn\\utils\\validation.py:70: FutureWarning: Pass categories=[array(['Audi A3 Cabriolet', 'Audi A4 1.8', 'Audi A4 2.0', 'Audi A6 2.0',\n",
      "       'Audi A8', 'Audi Q3 2.0', 'Audi Q5 2.0', 'Audi Q7', 'BMW 3 Series',\n",
      "       'BMW 5 Series', 'BMW 7 Series', 'BMW X1', 'BMW X1 sDrive20d',\n",
      "       'BMW X1 xDrive20d', 'Chevrolet Beat', 'Chevrolet Beat Diesel',\n",
      "       'Chevrolet Beat LS', 'Chevrolet Beat LT', 'Chevrolet Beat PS',\n",
      "       'Chevrolet Cruze LTZ', 'Chevrolet Enjoy', 'Chevrolet Enjoy 1.4',\n",
      "       'Chevrolet Sail 1.2', 'Chevrolet Sail UVA', 'Chevrolet Spark',\n",
      "       'Chevrolet Spark 1.0', 'Chevrolet Spark LS', 'Chevrolet Spark LT',\n",
      "       'Chevrolet Tavera LS', 'Chevrolet Tavera Neo', 'Datsun GO T',\n",
      "       'Datsun Go Plus', 'Datsun Redi GO', 'Fiat Linea Emotion',\n",
      "       'Fiat Petra ELX', 'Fiat Punto Emotion', 'Force Motors Force',\n",
      "       'Force Motors One', 'Ford EcoSport', 'Ford EcoSport Ambiente',\n",
      "       'Ford EcoSport Titanium', 'Ford EcoSport Trend',\n",
      "       'Ford Endeavor 4x4', 'Ford Fiesta', 'Ford Fiesta SXi', 'Ford Figo',\n",
      "       'Ford Figo Diesel', 'Ford Figo Duratorq', 'Ford Figo Petrol',\n",
      "       'Ford Fusion 1.4', 'Ford Ikon 1.3', 'Ford Ikon 1.6',\n",
      "       'Hindustan Motors Ambassador', 'Honda Accord', 'Honda Amaze',\n",
      "       'Honda Amaze 1.2', 'Honda Amaze 1.5', 'Honda Brio', 'Honda Brio V',\n",
      "       'Honda Brio VX', 'Honda City', 'Honda City 1.5', 'Honda City SV',\n",
      "       'Honda City VX', 'Honda City ZX', 'Honda Jazz S', 'Honda Jazz VX',\n",
      "       'Honda Mobilio', 'Honda Mobilio S', 'Honda WR V', 'Hyundai Accent',\n",
      "       'Hyundai Accent Executive', 'Hyundai Accent GLE',\n",
      "       'Hyundai Accent GLX', 'Hyundai Creta', 'Hyundai Creta 1.6',\n",
      "       'Hyundai Elantra 1.8', 'Hyundai Elantra SX', 'Hyundai Elite i20',\n",
      "       'Hyundai Eon', 'Hyundai Eon D', 'Hyundai Eon Era',\n",
      "       'Hyundai Eon Magna', 'Hyundai Eon Sportz', 'Hyundai Fluidic Verna',\n",
      "       'Hyundai Getz', 'Hyundai Getz GLE', 'Hyundai Getz Prime',\n",
      "       'Hyundai Grand i10', 'Hyundai Santro', 'Hyundai Santro AE',\n",
      "       'Hyundai Santro Xing', 'Hyundai Sonata Transform', 'Hyundai Verna',\n",
      "       'Hyundai Verna 1.4', 'Hyundai Verna 1.6', 'Hyundai Verna Fluidic',\n",
      "       'Hyundai Verna Transform', 'Hyundai Verna VGT',\n",
      "       'Hyundai Xcent Base', 'Hyundai Xcent SX', 'Hyundai i10',\n",
      "       'Hyundai i10 Era', 'Hyundai i10 Magna', 'Hyundai i10 Sportz',\n",
      "       'Hyundai i20', 'Hyundai i20 Active', 'Hyundai i20 Asta',\n",
      "       'Hyundai i20 Magna', 'Hyundai i20 Select', 'Hyundai i20 Sportz',\n",
      "       'Jaguar XE XE', 'Jaguar XF 2.2', 'Jeep Wrangler Unlimited',\n",
      "       'Land Rover Freelander', 'Mahindra Bolero DI',\n",
      "       'Mahindra Bolero Power', 'Mahindra Bolero SLE',\n",
      "       'Mahindra Jeep CL550', 'Mahindra Jeep MM', 'Mahindra KUV100',\n",
      "       'Mahindra KUV100 K8', 'Mahindra Logan', 'Mahindra Logan Diesel',\n",
      "       'Mahindra Quanto C4', 'Mahindra Quanto C8', 'Mahindra Scorpio',\n",
      "       'Mahindra Scorpio 2.6', 'Mahindra Scorpio LX',\n",
      "       'Mahindra Scorpio S10', 'Mahindra Scorpio S4',\n",
      "       'Mahindra Scorpio SLE', 'Mahindra Scorpio SLX',\n",
      "       'Mahindra Scorpio VLX', 'Mahindra Scorpio Vlx',\n",
      "       'Mahindra Scorpio W', 'Mahindra TUV300 T4', 'Mahindra TUV300 T8',\n",
      "       'Mahindra Thar CRDe', 'Mahindra XUV500', 'Mahindra XUV500 W10',\n",
      "       'Mahindra XUV500 W6', 'Mahindra XUV500 W8', 'Mahindra Xylo D2',\n",
      "       'Mahindra Xylo E4', 'Mahindra Xylo E8', 'Maruti Suzuki 800',\n",
      "       'Maruti Suzuki A', 'Maruti Suzuki Alto', 'Maruti Suzuki Baleno',\n",
      "       'Maruti Suzuki Celerio', 'Maruti Suzuki Ciaz',\n",
      "       'Maruti Suzuki Dzire', 'Maruti Suzuki Eeco',\n",
      "       'Maruti Suzuki Ertiga', 'Maruti Suzuki Esteem',\n",
      "       'Maruti Suzuki Estilo', 'Maruti Suzuki Maruti',\n",
      "       'Maruti Suzuki Omni', 'Maruti Suzuki Ritz', 'Maruti Suzuki S',\n",
      "       'Maruti Suzuki SX4', 'Maruti Suzuki Stingray',\n",
      "       'Maruti Suzuki Swift', 'Maruti Suzuki Versa',\n",
      "       'Maruti Suzuki Vitara', 'Maruti Suzuki Wagon', 'Maruti Suzuki Zen',\n",
      "       'Mercedes Benz A', 'Mercedes Benz B', 'Mercedes Benz C',\n",
      "       'Mercedes Benz GLA', 'Mini Cooper S', 'Mitsubishi Lancer 1.8',\n",
      "       'Mitsubishi Pajero Sport', 'Nissan Micra XL', 'Nissan Micra XV',\n",
      "       'Nissan Sunny', 'Nissan Sunny XL', 'Nissan Terrano XL',\n",
      "       'Nissan X Trail', 'Renault Duster', 'Renault Duster 110',\n",
      "       'Renault Duster 110PS', 'Renault Duster 85', 'Renault Duster 85PS',\n",
      "       'Renault Duster RxL', 'Renault Kwid', 'Renault Kwid 1.0',\n",
      "       'Renault Kwid RXT', 'Renault Lodgy 85', 'Renault Scala RxL',\n",
      "       'Skoda Fabia', 'Skoda Fabia 1.2L', 'Skoda Fabia Classic',\n",
      "       'Skoda Laura', 'Skoda Octavia Classic', 'Skoda Rapid Elegance',\n",
      "       'Skoda Superb 1.8', 'Skoda Yeti Ambition', 'Tata Aria Pleasure',\n",
      "       'Tata Bolt XM', 'Tata Indica', 'Tata Indica V2', 'Tata Indica eV2',\n",
      "       'Tata Indigo CS', 'Tata Indigo LS', 'Tata Indigo LX',\n",
      "       'Tata Indigo Marina', 'Tata Indigo eCS', 'Tata Manza',\n",
      "       'Tata Manza Aqua', 'Tata Manza Aura', 'Tata Manza ELAN',\n",
      "       'Tata Nano', 'Tata Nano Cx', 'Tata Nano GenX', 'Tata Nano LX',\n",
      "       'Tata Nano Lx', 'Tata Sumo Gold', 'Tata Sumo Grande',\n",
      "       'Tata Sumo Victa', 'Tata Tiago Revotorq', 'Tata Tiago Revotron',\n",
      "       'Tata Tigor Revotron', 'Tata Venture EX', 'Tata Vista Quadrajet',\n",
      "       'Tata Zest Quadrajet', 'Tata Zest XE', 'Tata Zest XM',\n",
      "       'Toyota Corolla', 'Toyota Corolla Altis', 'Toyota Corolla H2',\n",
      "       'Toyota Etios', 'Toyota Etios G', 'Toyota Etios GD',\n",
      "       'Toyota Etios Liva', 'Toyota Fortuner', 'Toyota Fortuner 3.0',\n",
      "       'Toyota Innova 2.0', 'Toyota Innova 2.5', 'Toyota Qualis',\n",
      "       'Volkswagen Jetta Comfortline', 'Volkswagen Jetta Highline',\n",
      "       'Volkswagen Passat Diesel', 'Volkswagen Polo',\n",
      "       'Volkswagen Polo Comfortline', 'Volkswagen Polo Highline',\n",
      "       'Volkswagen Polo Highline1.2L', 'Volkswagen Polo Trendline',\n",
      "       'Volkswagen Vento Comfortline', 'Volkswagen Vento Highline',\n",
      "       'Volkswagen Vento Konekt', 'Volvo S80 Summum'], dtype=object), array(['Diesel', 'LPG', 'Petrol'], dtype=object), array(['Audi', 'BMW', 'Chevrolet', 'Datsun', 'Fiat', 'Force', 'Ford',\n",
      "       'Hindustan', 'Honda', 'Hyundai', 'Jaguar', 'Jeep', 'Land',\n",
      "       'Mahindra', 'Maruti', 'Mercedes', 'Mini', 'Mitsubishi', 'Nissan',\n",
      "       'Renault', 'Skoda', 'Tata', 'Toyota', 'Volkswagen', 'Volvo'],\n",
      "      dtype=object)] as keyword args. From version 1.0 (renaming of 0.25) passing these as positional arguments will result in an error\n",
      "  warnings.warn(f\"Pass {args_msg} as keyword args. From version \"\n"
     ]
    }
   ],
   "source": [
    "column_trans=make_column_transformer((OneHotEncoder(ohe.categories_),[\"name\",\"fuel_type\",\"company\"]),\n",
    "                                    remainder='passthrough')"
   ]
  },
  {
   "cell_type": "code",
   "execution_count": 39,
   "id": "f1c102ba",
   "metadata": {},
   "outputs": [],
   "source": [
    "lr=LinearRegression()"
   ]
  },
  {
   "cell_type": "code",
   "execution_count": 40,
   "id": "868199cb",
   "metadata": {},
   "outputs": [],
   "source": [
    "pipe=make_pipeline(column_trans,lr)"
   ]
  },
  {
   "cell_type": "code",
   "execution_count": 41,
   "id": "aee7e603",
   "metadata": {},
   "outputs": [
    {
     "data": {
      "text/plain": [
       "Pipeline(steps=[('columntransformer',\n",
       "                 ColumnTransformer(remainder='passthrough',\n",
       "                                   transformers=[('onehotencoder',\n",
       "                                                  OneHotEncoder(categories=[array(['Audi A3 Cabriolet', 'Audi A4 1.8', 'Audi A4 2.0', 'Audi A6 2.0',\n",
       "       'Audi A8', 'Audi Q3 2.0', 'Audi Q5 2.0', 'Audi Q7', 'BMW 3 Series',\n",
       "       'BMW 5 Series', 'BMW 7 Series', 'BMW X1', 'BMW X1 sDrive20d',\n",
       "       'BMW X1 xDrive20d', 'Chevrolet Beat', 'Chevrolet Beat...\n",
       "                                                                            array(['Diesel', 'LPG', 'Petrol'], dtype=object),\n",
       "                                                                            array(['Audi', 'BMW', 'Chevrolet', 'Datsun', 'Fiat', 'Force', 'Ford',\n",
       "       'Hindustan', 'Honda', 'Hyundai', 'Jaguar', 'Jeep', 'Land',\n",
       "       'Mahindra', 'Maruti', 'Mercedes', 'Mini', 'Mitsubishi', 'Nissan',\n",
       "       'Renault', 'Skoda', 'Tata', 'Toyota', 'Volkswagen', 'Volvo'],\n",
       "      dtype=object)]),\n",
       "                                                  ['name', 'fuel_type',\n",
       "                                                   'company'])])),\n",
       "                ('linearregression', LinearRegression())])"
      ]
     },
     "execution_count": 41,
     "metadata": {},
     "output_type": "execute_result"
    }
   ],
   "source": [
    "pipe.fit(X_train,y_train)"
   ]
  },
  {
   "cell_type": "code",
   "execution_count": 42,
   "id": "3885857c",
   "metadata": {},
   "outputs": [],
   "source": [
    "y_pred=pipe.predict(X_test)"
   ]
  },
  {
   "cell_type": "code",
   "execution_count": 43,
   "id": "442488d0",
   "metadata": {},
   "outputs": [
    {
     "data": {
      "text/plain": [
       "array([ 146452.53492188,  222481.21706386, 1558511.53767636,\n",
       "        250978.28114301, 1890337.46401597, 1048443.06443036,\n",
       "        349169.35371067,  283445.46943503,  165672.03107384,\n",
       "        827039.67592825,  372456.04576968,  697835.15935159,\n",
       "        434970.36517555,  226870.53740002,  613414.64428069,\n",
       "        219395.23931161,  252129.94831647,  200703.91551196,\n",
       "        350891.10016053,   88207.97880194,  164223.08620659,\n",
       "         21282.85735793,  216679.24520046,   44640.54526614,\n",
       "        442790.81370639,  295343.62697561,  270179.0068324 ,\n",
       "       -124922.79807488,  102857.11289291, 1503186.13283566,\n",
       "         65725.60969635,  395376.04466522,  220594.25439779,\n",
       "        200781.29358608,  171541.25703925, 1285922.02008765,\n",
       "        177103.45500302,   50430.63185759,  721261.50848699,\n",
       "        101693.10594586,  277931.44113696,  217631.40897036,\n",
       "        223114.39013793,  378687.53945889, 1247374.03771711,\n",
       "        154908.23363932,  369967.29134656,  189612.28185115,\n",
       "        179357.85093662,  189412.24531322,  216637.84677567,\n",
       "        218457.1495119 ,  496632.96813476,  566214.78090801,\n",
       "        373486.15745273,  501071.42075167,  599395.87540278,\n",
       "        231978.82121186,  509098.65215675,  348013.1953031 ,\n",
       "        604904.97118491,  372753.96948574,  181896.51983661,\n",
       "        636250.45433225,  387603.77713878,  279106.17667791,\n",
       "        496632.96813476,  161136.44880811,  274376.85708679,\n",
       "         63631.23353662,  565376.52322822,  374802.88964646,\n",
       "       -105338.31870377,    8190.09077534,  521528.26767373,\n",
       "        330558.4246925 ,  231978.82121186,  635471.26906825,\n",
       "        588229.8352913 ,  -12078.80825175,  245092.20831013,\n",
       "        989421.64140006, 1417396.49889111, 1890337.46401597,\n",
       "        106534.18734815,  429125.09461221,  964809.38877732,\n",
       "        252768.27654984, 1441741.79711173,   39716.67004788,\n",
       "        856013.54262306,  365757.16638222,  410575.87935887,\n",
       "       1890337.46401597,   84149.9541905 ,  228771.12968931,\n",
       "        368339.84883399,   70843.07972426,  544086.40895274,\n",
       "        200011.04466066,  376665.81876149,  247459.41503684,\n",
       "        328624.74161474,  112772.11114005,  168342.72629644,\n",
       "       1040577.36372247,  337949.49241363,  197883.40385159,\n",
       "        577604.01285633,  244078.75654461,  208320.68686069,\n",
       "        258749.00849383,  176895.50248098,  452768.64163601,\n",
       "        512491.58927581,  250172.7320836 ,  263525.3016235 ,\n",
       "        678262.58997858,  489201.32149048,  245702.43146058,\n",
       "        275891.65424642,  270721.02493108,  -39258.55292255,\n",
       "        357675.70706215, 1108955.1440481 ,  103064.10501681,\n",
       "        332110.35424457,  225148.08112342,  375179.49035592,\n",
       "        319567.91654381,  260675.42047279,   81202.71228288,\n",
       "        132842.82394739,  264126.22119214,  442790.81370639,\n",
       "        149584.95603544,  495040.87774736,  214025.86034632,\n",
       "        276200.7450988 ,  862844.2827115 ,  -50886.75907196,\n",
       "         36157.91755922,  533153.03658235,  239466.49460369,\n",
       "        207510.42565318,  422091.40270441,  290057.91196471,\n",
       "        511272.88164265,  600405.02640079,  699607.10787697,\n",
       "        156239.25816417,  297356.00728973,  268515.98796441,\n",
       "        230765.22080293,  265997.97080595,   64866.78684249,\n",
       "        181656.3213305 ,  462834.52950234,  305166.92954816,\n",
       "        155545.8201416 ,  203700.67263728,  578294.21334447,\n",
       "        564712.50556623])"
      ]
     },
     "execution_count": 43,
     "metadata": {},
     "output_type": "execute_result"
    }
   ],
   "source": [
    "y_pred"
   ]
  },
  {
   "cell_type": "code",
   "execution_count": 44,
   "id": "03136951",
   "metadata": {},
   "outputs": [],
   "source": [
    "scores=[]\n",
    "for i in range(1000):\n",
    "    X_train,X_test,y_train,y_test=train_test_split(X,y,test_size=0.1,random_state=i)\n",
    "    lr=LinearRegression()\n",
    "    pipe=make_pipeline(column_trans,lr)\n",
    "    pipe.fit(X_train,y_train)\n",
    "    y_pred=pipe.predict(X_test)\n",
    "    scores.append(r2_score(y_test,y_pred))"
   ]
  },
  {
   "cell_type": "code",
   "execution_count": 45,
   "id": "62abfbd5",
   "metadata": {},
   "outputs": [
    {
     "data": {
      "text/plain": [
       "655"
      ]
     },
     "execution_count": 45,
     "metadata": {},
     "output_type": "execute_result"
    }
   ],
   "source": [
    "np.argmax(scores) #the max random state for the better r_2score"
   ]
  },
  {
   "cell_type": "code",
   "execution_count": 46,
   "id": "69f9c759",
   "metadata": {},
   "outputs": [
    {
     "data": {
      "text/plain": [
       "0.9200912622641"
      ]
     },
     "execution_count": 46,
     "metadata": {},
     "output_type": "execute_result"
    }
   ],
   "source": [
    "scores[np.argmax(scores)]"
   ]
  },
  {
   "cell_type": "code",
   "execution_count": 47,
   "id": "9871a0fb",
   "metadata": {},
   "outputs": [],
   "source": [
    "import pickle"
   ]
  },
  {
   "cell_type": "code",
   "execution_count": 48,
   "id": "73a56998",
   "metadata": {},
   "outputs": [],
   "source": [
    "pickle.dump(pipe,open(\"LinearRegressionModel.pkl\",\"wb\"))"
   ]
  },
  {
   "cell_type": "code",
   "execution_count": 49,
   "id": "b7600e3b",
   "metadata": {},
   "outputs": [
    {
     "data": {
      "text/plain": [
       "array([400816.26081235])"
      ]
     },
     "execution_count": 49,
     "metadata": {},
     "output_type": "execute_result"
    }
   ],
   "source": [
    "#predicting one row\n",
    "pipe.predict(pd.DataFrame([[\"Maruti Suzuki Swift\",\"Maruti\",2019,100,\"Petrol\"]],columns=[\"name\",\"company\",\"year\",\"kms_driven\",\"fuel_type\"]))"
   ]
  },
  {
   "cell_type": "code",
   "execution_count": 267,
   "id": "8705d48b",
   "metadata": {},
   "outputs": [],
   "source": [
    "#around 4lakhs is the predicted for the given dataframe"
   ]
  }
 ],
 "metadata": {
  "kernelspec": {
   "display_name": "Python 3",
   "language": "python",
   "name": "python3"
  },
  "language_info": {
   "codemirror_mode": {
    "name": "ipython",
    "version": 3
   },
   "file_extension": ".py",
   "mimetype": "text/x-python",
   "name": "python",
   "nbconvert_exporter": "python",
   "pygments_lexer": "ipython3",
   "version": "3.9.5"
  }
 },
 "nbformat": 4,
 "nbformat_minor": 5
}
